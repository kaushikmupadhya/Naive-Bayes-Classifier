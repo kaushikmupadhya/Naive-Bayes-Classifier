{
 "cells": [
  {
   "cell_type": "markdown",
   "metadata": {},
   "source": [
    "<div class=\"alert alert-block alert-info\" >\n",
    "    <h1>Naive Bayes Classifier </h1>"
   ]
  },
  {
   "cell_type": "markdown",
   "metadata": {},
   "source": [
    "## Build a spam classifier using Naive Bayes"
   ]
  },
  {
   "cell_type": "code",
   "execution_count": 5,
   "metadata": {},
   "outputs": [],
   "source": [
    "\n",
    "#Headers\n",
    "import pandas as pd\n",
    "import numpy as np\n",
    "import matplotlib.pyplot as plt\n",
    "import seaborn as sns\n",
    "import sklearn"
   ]
  },
  {
   "cell_type": "markdown",
   "metadata": {},
   "source": [
    "## Step 1:- Load your data\n",
    "#### There are three datasets for training: TrainDataset1.csv, TrainDataset2.csv and TrainDataset3.txt. Each dataset contains short messages with the labels (ham or spam). Load the dataset using pandas."
   ]
  },
  {
   "cell_type": "code",
   "execution_count": 7,
   "metadata": {},
   "outputs": [
    {
     "name": "stdout",
     "output_type": "stream",
     "text": [
      "Dataset 1 contatin :\n",
      "      type                                               text\n",
      "0      ham  Hope you are having a good week. Just checking in\n",
      "1      ham                            K..give back my thanks.\n",
      "2      ham        Am also doing in cbe only. But have to pay.\n",
      "3     spam  complimentary 4 STAR Ibiza Holiday or £10,000 ...\n",
      "4     spam  okmail: Dear Dave this is your final notice to...\n",
      "...    ...                                                ...\n",
      "5554   ham  You are a great role model. You are giving so ...\n",
      "5555   ham  Awesome, I remember the last time we got someb...\n",
      "5556  spam  If you don't, your prize will go to another cu...\n",
      "5557  spam  SMS. ac JSco: Energy is high, but u may not kn...\n",
      "5558   ham                    Shall call now dear having food\n",
      "\n",
      "[5559 rows x 2 columns]\n",
      "Dataset 2 contain :\n",
      "        v1                                                 v2\n",
      "0     spam  U were outbid by simonwatson5120 on the Shinco...\n",
      "1      ham                     Do you still have the grinder?\n",
      "2      ham                     No. Yes please. Been swimming?\n",
      "3      ham    No de.am seeing in online shop so that i asked.\n",
      "4      ham  Faith makes things possible,Hope makes things ...\n",
      "...    ...                                                ...\n",
      "4452   ham               Good. Good job. I like entrepreneurs\n",
      "4453   ham  Living is very simple.. Loving is also simple....\n",
      "4454   ham  Msgs r not time pass.They silently say that I ...\n",
      "4455   ham     What is this 'hex' place you talk of? Explain!\n",
      "4456   ham                             Sorry, I'll call later\n",
      "\n",
      "[4457 rows x 2 columns]\n",
      "Dataset 3 contain :\n",
      "       ham  \\\n",
      "0      ham   \n",
      "1     spam   \n",
      "2      ham   \n",
      "3      ham   \n",
      "4     spam   \n",
      "...    ...   \n",
      "5566  spam   \n",
      "5567   ham   \n",
      "5568   ham   \n",
      "5569   ham   \n",
      "5570   ham   \n",
      "\n",
      "     Go until jurong point, crazy.. Available only in bugis n great world la e buffet... Cine there got amore wat...  \n",
      "0                         Ok lar... Joking wif u oni...                                                               \n",
      "1     Free entry in 2 a wkly comp to win FA Cup fina...                                                               \n",
      "2     U dun say so early hor... U c already then say...                                                               \n",
      "3     Nah I don't think he goes to usf, he lives aro...                                                               \n",
      "4     FreeMsg Hey there darling it's been 3 week's n...                                                               \n",
      "...                                                 ...                                                               \n",
      "5566  This is the 2nd time we have tried 2 contact u...                                                               \n",
      "5567               Will ü b going to esplanade fr home?                                                               \n",
      "5568  Pity, * was in mood for that. So...any other s...                                                               \n",
      "5569  The guy did some bitching but I acted like i'd...                                                               \n",
      "5570                         Rofl. Its true to its name                                                               \n",
      "\n",
      "[5571 rows x 2 columns]\n",
      "       type                                               text\n",
      "0       ham  Hope you are having a good week. Just checking in\n",
      "1       ham                            K..give back my thanks.\n",
      "2       ham        Am also doing in cbe only. But have to pay.\n",
      "3      spam  complimentary 4 STAR Ibiza Holiday or £10,000 ...\n",
      "4      spam  okmail: Dear Dave this is your final notice to...\n",
      "...     ...                                                ...\n",
      "15582  spam  This is the 2nd time we have tried 2 contact u...\n",
      "15583   ham               Will ü b going to esplanade fr home?\n",
      "15584   ham  Pity, * was in mood for that. So...any other s...\n",
      "15585   ham  The guy did some bitching but I acted like i'd...\n",
      "15586   ham                         Rofl. Its true to its name\n",
      "\n",
      "[15587 rows x 2 columns]\n"
     ]
    }
   ],
   "source": [
    "#Load your dataset in this cell\n",
    "def loadData():\n",
    "    #your code\n",
    "    data1=pd.read_csv(r'TrainDataset1.csv')\n",
    "    data2=pd.read_csv(r'TrainDataset2.csv')\n",
    "    data3 = pd.read_csv('TrainDataset3.txt', delimiter='\\t')\n",
    "    return data1,data2,data3\n",
    "dataset1,dataset2,dataset3=loadData()\n",
    "\n",
    "print(\"Dataset 1 contatin :\")\n",
    "print(dataset1)\n",
    "print(\"Dataset 2 contain :\")\n",
    "print(dataset2)\n",
    "print(\"Dataset 3 contain :\")\n",
    "print(dataset3)\n",
    "\n",
    "training_data = pd.DataFrame(np.concatenate([dataset1.values, dataset2.values, dataset3.values]), columns=dataset1.columns)\n",
    "print(training_data) "
   ]
  },
  {
   "cell_type": "markdown",
   "metadata": {},
   "source": [
    "## Step 2:- Preprocess the data\n",
    "#### Analysing the data, for this you will need to process the text, namely remove punctuation and stopwords, and then create a list of clean text words (Research how to do this) use any libraries that you feel comfortable. Now Combine them into one big data set for the training."
   ]
  },
  {
   "cell_type": "code",
   "execution_count": 8,
   "metadata": {},
   "outputs": [],
   "source": [
    "# #Pre-process the data\n",
    "\n",
    "import nltk\n",
    "from nltk.tokenize import word_tokenize\n",
    "from nltk.corpus import stopwords\n",
    "from nltk.stem import WordNetLemmatizer\n",
    "from nltk.stem import PorterStemmer\n",
    "import string\n",
    "\n",
    "\n",
    "lemma=WordNetLemmatizer()\n",
    "\n",
    "def preprocess(text):\n",
    "\n",
    "    text=[char for char in text if char not in string.punctuation]\n",
    "    text=''.join(text)\n",
    "    text=[word for word in text.split() if word.lower() not in stopwords.words('english')]\n",
    "    text=[PorterStemmer().stem(words) for words in text]\n",
    "    text=[lemma.lemmatize(word=w,pos='v') for w in text]\n",
    "    return text"
   ]
  },
  {
   "cell_type": "markdown",
   "metadata": {},
   "source": [
    "## Step 3:- Visualise the data\n",
    "#### Trying to visualize and analyse the data such as before and after pre processing, number of ham/spam etc. Analyse as many verticals you can, feel free to use graphical libraries like seaborn."
   ]
  },
  {
   "cell_type": "code",
   "execution_count": 9,
   "metadata": {},
   "outputs": [
    {
     "name": "stdout",
     "output_type": "stream",
     "text": [
      "Bar chart:-\n",
      "\n"
     ]
    },
    {
     "data": {
      "image/png": "[encoded data removed]",
      "text/plain": [
       "<Figure size 432x288 with 1 Axes>"
      ]
     },
     "metadata": {
      "needs_background": "light"
     },
     "output_type": "display_data"
    },
    {
     "name": "stdout",
     "output_type": "stream",
     "text": [
      "Pie chart:-\n",
      "\n"
     ]
    },
    {
     "data": {
      "image/png": "[encoded data removed]",
      "text/plain": [
       "<Figure size 432x288 with 1 Axes>"
      ]
     },
     "metadata": {},
     "output_type": "display_data"
    }
   ],
   "source": [
    "# Visualise the data   \n",
    "\n",
    "\n",
    "print(\"Bar chart:-\\n\")\n",
    "ham_count1, spam_count1 = training_data.type.value_counts()\n",
    "plt.bar([\"ham\", \"spam\"], [ham_count1, spam_count1], color=['blue', 'red'])\n",
    "plt.title(\"Training dataset(combined data)\")\n",
    "plt.xlabel='length'\n",
    "plt.ylabel='number of messages'\n",
    "plt.show()\n",
    "\n",
    "\n",
    "print(\"Pie chart:-\\n\")\n",
    "ham_count1, spam_count1 = dataset1.type.value_counts()\n",
    "labels = 'spam', 'ham'\n",
    "fig1,ax1 = plt.subplots()\n",
    "ax1.pie([ham_count1,spam_count1], labels=labels,colors=['blue', 'red'],autopct='%1.1f%%')\n",
    "plt.title(\"Training dataset(combined data)\")\n",
    "ax1.axis('equal')\n",
    "plt.show()\n"
   ]
  },
  {
   "cell_type": "markdown",
   "metadata": {},
   "source": [
    "## Step 4:- Build, train and validate the classifer\n",
    "\n",
    "### Training on supervised data (labelled data)\n",
    "\n",
    "#### Use the data in order to build your own Naive Bayes classifier (You can either use existing Naive Bayes from sklearn or build your own). Build the classifier, train it and then validate. Provide your result in confusion matrix (use heatmap from seaborn) along with the classification report from sklearn. Validation accuracy should be around 99%."
   ]
  },
  {
   "cell_type": "code",
   "execution_count": 10,
   "metadata": {},
   "outputs": [
    {
     "name": "stdout",
     "output_type": "stream",
     "text": [
      "Accuracy: 98.8454137267479 %\n",
      "Classification_report: \n",
      "               precision    recall  f1-score   support\n",
      "\n",
      "           0       0.99      1.00      0.99      2689\n",
      "           1       1.00      0.92      0.96       429\n",
      "\n",
      "    accuracy                           0.99      3118\n",
      "   macro avg       0.99      0.96      0.97      3118\n",
      "weighted avg       0.99      0.99      0.99      3118\n",
      "\n"
     ]
    },
    {
     "data": {
      "text/plain": [
       "<matplotlib.axes._subplots.AxesSubplot at 0x1f55e507288>"
      ]
     },
     "execution_count": 10,
     "metadata": {},
     "output_type": "execute_result"
    },
    {
     "data": {
      "image/png": "[encoded data removed]",
      "text/plain": [
       "<Figure size 432x288 with 2 Axes>"
      ]
     },
     "metadata": {
      "needs_background": "light"
     },
     "output_type": "display_data"
    }
   ],
   "source": [
    "# Build, train and validate the classifier, \n",
    "#your code here\n",
    "from sklearn.feature_extraction.text import TfidfVectorizer \n",
    "from sklearn.naive_bayes import MultinomialNB\n",
    "from sklearn.metrics import classification_report, confusion_matrix, accuracy_score\n",
    "from sklearn.model_selection import train_test_split\n",
    "from sklearn.pipeline import Pipeline\n",
    "from collections import Counter\n",
    "\n",
    "#Considering spam messages as 1 and ham messages as 0\n",
    "training_data['spam'] = training_data['type'].map( {'spam': 1, 'ham': 0} ).astype(int)   \n",
    "\n",
    "x_train, x_validate, y_train, y_validate = train_test_split(training_data[\"text\"], training_data[\"spam\"], test_size=0.2, random_state=5)\n",
    "\n",
    "\n",
    "My_pipeline = Pipeline([\n",
    "    ('vectorizer',TfidfVectorizer(analyzer=preprocess)),       #Vectorizing\n",
    "    ('classifier',MultinomialNB())                             #NB classifier\n",
    "])\n",
    "\n",
    "#Training the classifier\n",
    "My_pipeline.fit(x_train,y_train)\n",
    "\n",
    "#Prediction using validation data\n",
    "predicted_validation_data = My_pipeline.predict(x_validate)\n",
    "\n",
    "\n",
    "#Calculating accuracy\n",
    "accuracy = accuracy_score(y_validate, predicted_validation_data)\n",
    "print(\"Accuracy:\",accuracy*100,\"%\")\n",
    "\n",
    "#Constructing the classification report\n",
    "report = classification_report(y_validate, predicted_validation_data)\n",
    "print(\"Classification_report: \\n\", report)\n",
    "\n",
    "#Constucting the confusion matrix and visualizing it using heatmap\n",
    "confusion_matrix_validation_data = confusion_matrix(y_validate, predicted_validation_data)\n",
    "sns.heatmap(confusion_matrix_validation_data, annot=True)\n"
   ]
  },
  {
   "cell_type": "markdown",
   "metadata": {},
   "source": [
    "## Step 5:- Test the classifier\n",
    "\n",
    "### Supervised classification\n",
    "\n",
    "#### Test your Classifier using  the SMSSpamCollection.txt dataset provide a heatmap and classification report. Test accuracy should be around 99%."
   ]
  },
  {
   "cell_type": "code",
   "execution_count": 11,
   "metadata": {},
   "outputs": [
    {
     "name": "stdout",
     "output_type": "stream",
     "text": [
      "Accuracy: 99.03069466882067 %\n",
      "Classification_report: \n",
      "               precision    recall  f1-score   support\n",
      "\n",
      "           0       0.99      1.00      0.99      4824\n",
      "           1       1.00      0.93      0.96       747\n",
      "\n",
      "    accuracy                           0.99      5571\n",
      "   macro avg       0.99      0.96      0.98      5571\n",
      "weighted avg       0.99      0.99      0.99      5571\n",
      "\n"
     ]
    },
    {
     "data": {
      "text/plain": [
       "<matplotlib.axes._subplots.AxesSubplot at 0x1f55e797148>"
      ]
     },
     "execution_count": 11,
     "metadata": {},
     "output_type": "execute_result"
    },
    {
     "data": {
      "image/png": "[encoded data removed]",
      "text/plain": [
       "<Figure size 432x288 with 2 Axes>"
      ]
     },
     "metadata": {
      "needs_background": "light"
     },
     "output_type": "display_data"
    }
   ],
   "source": [
    "# Test the classifier\n",
    "#your code here\n",
    "\n",
    "#Loading the data\n",
    "labelled_test_dataset = pd.read_csv('SMSSpamCollection.txt', delimiter='\\t')\n",
    "labelled_test_dataset.columns = ['type', 'text']\n",
    "\n",
    "#Considering spam messages as 1 and ham messages as 0\n",
    "labelled_test_dataset['spam'] = labelled_test_dataset['type'].map( {'spam': 1, 'ham': 0} ).astype(int)\n",
    "\n",
    "#Prediction of labelled dataset\n",
    "predicted_labelled_data = My_pipeline.predict(labelled_test_dataset[\"text\"])\n",
    "\n",
    "#Accuracy of labelled dataset\n",
    "accuracy_labelled_data = accuracy_score(labelled_test_dataset[\"spam\"], predicted_labelled_data)\n",
    "print(\"Accuracy:\",accuracy_labelled_data*100,\"%\")\n",
    "\n",
    "#Classification report for labelled dataset\n",
    "report_labelled_data = classification_report(labelled_test_dataset[\"spam\"], predicted_labelled_data)\n",
    "print(\"Classification_report: \\n\", report_labelled_data)\n",
    "\n",
    "#Constucting the confusion matrix and visualizing it using heatmap\n",
    "confusion_matrix_labelled_data = confusion_matrix(labelled_test_dataset[\"spam\"], predicted_labelled_data)\n",
    "sns.heatmap(confusion_matrix_labelled_data, annot=True)\n"
   ]
  },
  {
   "cell_type": "markdown",
   "metadata": {},
   "source": [
    "### Unsupervised classification\n",
    "\n",
    "#### Test your Classifier using  the TestDataset.csv dataset. This dataset is not labelled so kindly predict the labels and visualise it."
   ]
  },
  {
   "cell_type": "code",
   "execution_count": 12,
   "metadata": {},
   "outputs": [
    {
     "name": "stdout",
     "output_type": "stream",
     "text": [
      "Bar chart:-\n",
      "\n"
     ]
    },
    {
     "data": {
      "image/png": "[encoded data removed]",
      "text/plain": [
       "<Figure size 432x288 with 1 Axes>"
      ]
     },
     "metadata": {
      "needs_background": "light"
     },
     "output_type": "display_data"
    },
    {
     "name": "stdout",
     "output_type": "stream",
     "text": [
      "Pie chart:-\n",
      "\n"
     ]
    },
    {
     "data": {
      "image/png": "[encoded data removed]",
      "text/plain": [
       "<Figure size 432x288 with 1 Axes>"
      ]
     },
     "metadata": {},
     "output_type": "display_data"
    }
   ],
   "source": [
    "# Test the classifier\n",
    "#your code here\n",
    "\n",
    "#Loading the data\n",
    "unlabelled_test_dataset = pd.read_csv('TestDataset.csv')\n",
    "unlabelled_test_dataset.columns = ['type']\n",
    "\n",
    "#Prediction of unlabelled dataset and plotting it\n",
    "predicted_unlabelled_data = My_pipeline.predict(unlabelled_test_dataset[\"type\"])\n",
    "spam_count_predicted_unlabelled_data = np.count_nonzero(predicted_unlabelled_data == 1)\n",
    "ham_count_predicted_unlabelled_data = np.count_nonzero(predicted_unlabelled_data == 0)\n",
    "\n",
    "\n",
    "print(\"Bar chart:-\\n\")\n",
    "plt.bar([\"ham\", \"spam\"], [ham_count_predicted_unlabelled_data,spam_count_predicted_unlabelled_data], color=['blue', 'red'],label=labels)\n",
    "plt.title(\"Visualization of unlabelled dataset\")\n",
    "plt.xlabel='length'\n",
    "plt.ylabel='number of messages'\n",
    "plt.show()\n",
    "\n",
    "print(\"Pie chart:-\\n\")\n",
    "labels = 'spam', 'ham'\n",
    "fig2, ax2 = plt.subplots()\n",
    "ax2.pie([ham_count_predicted_unlabelled_data,spam_count_predicted_unlabelled_data], labels=labels,colors=['blue', 'red'],autopct='%1.1f%%')\n",
    "plt.title(\"Visualization of unlabelled dataset\")\n",
    "ax2.axis('equal')\n",
    "plt.show()"
   ]
  },
  {
   "cell_type": "markdown",
   "metadata": {},
   "source": [
    "## Step 6:- Cheat the classifier\n",
    "\n",
    "#### Try to cheat the classifier by adding \"good words\" to the end of test dataset(TestDataset.csv) e.g:- Oh! no share Market has fallen down by $100,000$ due to Corona outbreak... try mixing up spam and ham words see how the classifier works. Output the results in a good format to validate your work "
   ]
  },
  {
   "cell_type": "code",
   "execution_count": 13,
   "metadata": {},
   "outputs": [
    {
     "name": "stdout",
     "output_type": "stream",
     "text": [
      "Accuracy: 80.0 %\n",
      "Classification_report: \n",
      "               precision    recall  f1-score   support\n",
      "\n",
      "           0       0.80      1.00      0.89         8\n",
      "           1       0.00      0.00      0.00         2\n",
      "\n",
      "    accuracy                           0.80        10\n",
      "   macro avg       0.40      0.50      0.44        10\n",
      "weighted avg       0.64      0.80      0.71        10\n",
      "\n",
      "Heatmap of confusion matrix\n"
     ]
    },
    {
     "name": "stderr",
     "output_type": "stream",
     "text": [
      "C:\\Users\\Kaushik\\anaconda3\\lib\\site-packages\\sklearn\\metrics\\_classification.py:1272: UndefinedMetricWarning: Precision and F-score are ill-defined and being set to 0.0 in labels with no predicted samples. Use `zero_division` parameter to control this behavior.\n",
      "  _warn_prf(average, modifier, msg_start, len(result))\n"
     ]
    },
    {
     "data": {
      "text/plain": [
       "<matplotlib.axes._subplots.AxesSubplot at 0x1f55e80dec8>"
      ]
     },
     "execution_count": 13,
     "metadata": {},
     "output_type": "execute_result"
    },
    {
     "data": {
      "image/png": "[encoded data removed]",
      "text/plain": [
       "<Figure size 432x288 with 2 Axes>"
      ]
     },
     "metadata": {
      "needs_background": "light"
     },
     "output_type": "display_data"
    }
   ],
   "source": [
    "# Cheat the classifier\n",
    "#your code here\n",
    "cheating_classifier_msgs = ['CONGRATULATIONS!! Status of your application for HBRS MAS course...', \n",
    "              'Urgent! Hello bro, our group has planned for a movie in 30 minutes, Be ready ASAP, i will pick you up...', \n",
    "              'Go until jurong point, crazy..Available only... ', \n",
    "              'Happy morning, lets have breakfast at ... after the jog', \n",
    "              'CONGRATULATIONS!! Your Number was selected as the Winner in Power Lottery Competition, Kindly send your Details...', \n",
    "              'As per you request, \"oh baby\" song has been set as your caller tune', \n",
    "              'Dear Beneficiary, We want to confirm to you that our Bank {HSBC}, USA, has issued an ATM MasterCard Cash of $500,000 USD in mark', \n",
    "              'Hello Prabhudev, Welcome to Blizzard services!You have successfully created the following Blizzard Account:', \n",
    "              'Dear Kaushik, Your SmartStatement was created and linkind to this email ...',\n",
    "              'Dear customer, due to schedule maintainence activity net and mobile banking will not be available from 10-10-2020 ...']\n",
    "cheating_classifier_msg_values = [0,0,0,0,1,0,1,0,0,0]\n",
    "data = {'text': cheating_classifier_msgs, 'spam': cheating_classifier_msg_values}\n",
    "cheating_classifier_dataset = pd.DataFrame(data=data)\n",
    "\n",
    "predicted_cheating_classifier_dataset = My_pipeline.predict(cheating_classifier_dataset[\"text\"])\n",
    "\n",
    "accuracy_cheating_classifier_dataset = accuracy_score(cheating_classifier_dataset[\"spam\"], predicted_cheating_classifier_dataset)\n",
    "print(\"Accuracy:\",accuracy_cheating_classifier_dataset*100,\"%\")\n",
    "\n",
    "#Building a text report showing the main classification metrics\n",
    "report_cheating_classifier_dataset = classification_report(cheating_classifier_dataset[\"spam\"], predicted_cheating_classifier_dataset)\n",
    "print(\"Classification_report: \\n\", report_cheating_classifier_dataset)\n",
    "\n",
    "#Constucting the confusion matrix and visualizing it \n",
    "confusion_matrix_cheating_classifier_dataset = confusion_matrix(cheating_classifier_dataset[\"spam\"], predicted_cheating_classifier_dataset)\n",
    "print(\"Heatmap of confusion matrix\")\n",
    "sns.heatmap(confusion_matrix_cheating_classifier_dataset, annot=True)\n",
    "\n",
    "\n"
   ]
  },
  {
   "cell_type": "markdown",
   "metadata": {},
   "source": [
    "### Help\n",
    "\n",
    "<a href=\"https://towardsdatascience.com/spam-filtering-using-naive-bayes-98a341224038\" target=\"_top\">Spam classification</a><br>\n",
    "<a href=\"https://seaborn.pydata.org/generated/seaborn.heatmap.html\" target=\"_top\">Seaborn Heatmap</a><br>\n",
    "<a href=\"https://scikit-learn.org/stable/modules/naive_bayes.html\" target=\"_top\">Sklearn Naive Bayes</a><br>\n",
    "<a href=\"https://scikit-learn.org/stable/modules/model_evaluation.html\" target=\"_top\">Sklearn Metrics</a><br>\n",
    "<a href=\"https://pandas.pydata.org/docs/getting_started/index.html#getting-started\" target=\"_top\">Intro to Pandas</a>"
   ]
  }
 ],
 "metadata": {
  "kernelspec": {
   "display_name": "Python 3",
   "language": "python",
   "name": "python3"
  },
  "language_info": {
   "codemirror_mode": {
    "name": "ipython",
    "version": 3
   },
   "file_extension": ".py",
   "mimetype": "text/x-python",
   "name": "python",
   "nbconvert_exporter": "python",
   "pygments_lexer": "ipython3",
   "version": "3.7.6"
  }
 },
 "nbformat": 4,
 "nbformat_minor": 4
}
